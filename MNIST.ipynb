{
 "cells": [
  {
   "cell_type": "markdown",
   "metadata": {},
   "source": [
    "# A Simple Example on MNIST"
   ]
  },
  {
   "cell_type": "markdown",
   "metadata": {},
   "source": [
    "### 导入模块"
   ]
  },
  {
   "cell_type": "code",
   "execution_count": 1,
   "metadata": {},
   "outputs": [],
   "source": [
    "import torch, torchvision\n",
    "from torchvision import transforms, datasets\n",
    "from torch.utils.data import DataLoader\n",
    "import torch.nn.functional as F\n",
    "import torch.optim as optim"
   ]
  },
  {
   "cell_type": "markdown",
   "metadata": {},
   "source": [
    "### 准备数据集"
   ]
  },
  {
   "cell_type": "code",
   "execution_count": 2,
   "metadata": {
    "scrolled": true
   },
   "outputs": [],
   "source": [
    "batch_size = 256\n",
    "transform = transforms.Compose([\n",
    "    transforms.ToTensor(),\n",
    "    transforms.Normalize((0.1307,),(0.3801, ))\n",
    "])\n",
    "\n",
    "train_dataset = datasets.MNIST(root='.\\\\data\\\\MNIST\\\\',\n",
    "                             train=True,\n",
    "                             download=True,\n",
    "                             transform=transform)\n",
    "train_loader = DataLoader(train_dataset,\n",
    "                        shuffle=True,\n",
    "                        batch_size=batch_size)\n",
    "\n",
    "test_dataset = datasets.MNIST(root='.\\\\data\\\\MNIST\\\\',\n",
    "                             train=False,\n",
    "                             download=True,\n",
    "                             transform=transform)\n",
    "test_loader = DataLoader(train_dataset,\n",
    "                        shuffle=False,\n",
    "                        batch_size=batch_size)"
   ]
  },
  {
   "cell_type": "markdown",
   "metadata": {},
   "source": [
    "`ToTensor()`将图像数据转变为张量，且读取顺序为 *C->W->H* 即通道值在前，随后为宽度与高度，`Normalize()`中前一个数据为均值，后一个数据为标准差，将原图像数据映射为 *N(0,1)* 标准正态分布"
   ]
  },
  {
   "cell_type": "markdown",
   "metadata": {},
   "source": [
    "### 数据可视化"
   ]
  },
  {
   "cell_type": "markdown",
   "metadata": {},
   "source": [
    "需要用到`np.transpose()`将原图像通道交换至最后一个维度变为 （w-h-c）"
   ]
  },
  {
   "cell_type": "code",
   "execution_count": 3,
   "metadata": {},
   "outputs": [
    {
     "data": {
      "text/plain": [
       "<Figure size 640x480 with 1 Axes>"
      ]
     },
     "metadata": {},
     "output_type": "display_data"
    }
   ],
   "source": [
    "import matplotlib.pyplot as plt\n",
    "import numpy as np\n",
    "\n",
    "def imshow(img):\n",
    "    img = img*0.3801 + 0.1307\n",
    "    npimg = img.numpy()\n",
    "    plt.imshow(np.transpose(npimg, (1, 2, 0)))\n",
    "    plt.show()\n",
    "\n",
    "dataiter = iter(train_loader)\n",
    "data, labels = dataiter.next()\n",
    "data = data*0.3801 + 0.1307\n",
    "imshow(torchvision.utils.make_grid(data))\n"
   ]
  },
  {
   "cell_type": "markdown",
   "metadata": {},
   "source": [
    "### 定义网络"
   ]
  },
  {
   "cell_type": "code",
   "execution_count": 4,
   "metadata": {},
   "outputs": [],
   "source": [
    "from torch.nn import Module, Linear, CrossEntropyLoss\n",
    "class Net(Module):\n",
    "    def __init__(self):\n",
    "        super(Net, self).__init__()\n",
    "        self.l1 = Linear(28*28, 512)\n",
    "        self.l2 = Linear(512, 256)\n",
    "        self.l3 = Linear(256, 128)\n",
    "        self.l4 = Linear(128, 64)\n",
    "        self.l5 = Linear(64, 10)\n",
    "        \n",
    "    def forward(self, x):\n",
    "        x = x.view(-1, 28*28)\n",
    "        x = F.relu(self.l1(x))\n",
    "        x = F.relu(self.l2(x))\n",
    "        x = F.relu(self.l3(x))\n",
    "        x = F.relu(self.l4(x))\n",
    "        return self.l5(x)\n",
    "    \n",
    "net = Net()\n",
    "criterion = CrossEntropyLoss()\n",
    "optimizer = optim.SGD(net.parameters(), lr=0.001, momentum=0.9)"
   ]
  },
  {
   "cell_type": "markdown",
   "metadata": {},
   "source": [
    "### 训练与验证网络"
   ]
  },
  {
   "cell_type": "code",
   "execution_count": 5,
   "metadata": {},
   "outputs": [],
   "source": [
    "device = torch.device(\"cuda:0\" if torch.cuda.is_available() else \"cpu\")\n",
    "net.to(device)\n",
    "def train(epoch):\n",
    "    running_loss = 0.\n",
    "    for batch_idx, data in enumerate(train_loader, 0):\n",
    "        inputs, target = data[0].to(device), data[1].to(device)\n",
    "        optimizer.zero_grad()\n",
    "        \n",
    "        #更新网络\n",
    "        outputs = net(inputs)\n",
    "        loss = criterion(outputs, target)\n",
    "        loss.backward()\n",
    "        optimizer.step()\n",
    "        \n",
    "        running_loss += loss.item()\n",
    "        \n",
    "        if batch_idx % 200 == 199:\n",
    "            print('[%d, %5d] loss: %.3f' % (epoch+1, batch_idx+1, running_loss/500))\n",
    "            running_loss = 0.\n",
    "            \n",
    "def test():\n",
    "    correct = 0\n",
    "    total = 0\n",
    "    with torch.no_grad():\n",
    "        for data in test_loader:\n",
    "            images, labels = data[0].to(device), data[1].to(device)\n",
    "            outputs = net(images)\n",
    "            _, predicted = torch.max(outputs.data, dim=1)\n",
    "            total += labels.size(0)\n",
    "            correct += (predicted == labels).sum().item()\n",
    "    print('Accuracy on test set: %d %%'%(100*correct/total))"
   ]
  },
  {
   "cell_type": "code",
   "execution_count": 6,
   "metadata": {},
   "outputs": [
    {
     "name": "stdout",
     "output_type": "stream",
     "text": [
      "[1,   200] loss: 0.919\n",
      "Accuracy on test set: 28 %\n",
      "[2,   200] loss: 0.908\n",
      "Accuracy on test set: 43 %\n",
      "[3,   200] loss: 0.868\n",
      "Accuracy on test set: 42 %\n",
      "[4,   200] loss: 0.686\n",
      "Accuracy on test set: 70 %\n",
      "[5,   200] loss: 0.360\n",
      "Accuracy on test set: 81 %\n",
      "[6,   200] loss: 0.229\n",
      "Accuracy on test set: 85 %\n",
      "[7,   200] loss: 0.186\n",
      "Accuracy on test set: 87 %\n",
      "[8,   200] loss: 0.160\n",
      "Accuracy on test set: 88 %\n",
      "[9,   200] loss: 0.144\n",
      "Accuracy on test set: 90 %\n",
      "[10,   200] loss: 0.133\n",
      "Accuracy on test set: 90 %\n",
      "training finished\n"
     ]
    }
   ],
   "source": [
    "for epoch in range(10):\n",
    "    train(epoch)\n",
    "    test()\n",
    "print('training finished')"
   ]
  },
  {
   "cell_type": "code",
   "execution_count": 7,
   "metadata": {},
   "outputs": [
    {
     "name": "stdout",
     "output_type": "stream",
     "text": [
      "[<torch.cuda.device object at 0x0000027B64346710>]\n",
      "1\n",
      "GeForce GTX 1660 Ti\n"
     ]
    }
   ],
   "source": [
    "available_gpus = [torch.cuda.device(i) for i in range(torch.cuda.device_count())]\n",
    "print(available_gpus)\n",
    "\n",
    "\n",
    "# 获取可用数量\n",
    "print(torch.cuda.device_count())\n",
    "print(torch.cuda.get_device_name(0))"
   ]
  }
 ],
 "metadata": {
  "kernelspec": {
   "display_name": "Python [conda env:for_torch]",
   "language": "python",
   "name": "conda-env-for_torch-py"
  },
  "language_info": {
   "codemirror_mode": {
    "name": "ipython",
    "version": 3
   },
   "file_extension": ".py",
   "mimetype": "text/x-python",
   "name": "python",
   "nbconvert_exporter": "python",
   "pygments_lexer": "ipython3",
   "version": "3.6.13"
  }
 },
 "nbformat": 4,
 "nbformat_minor": 4
}
