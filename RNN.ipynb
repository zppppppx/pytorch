{
 "cells": [
  {
   "cell_type": "markdown",
   "metadata": {},
   "source": [
    "# RNN"
   ]
  },
  {
   "cell_type": "markdown",
   "metadata": {},
   "source": [
    "RNN专门用于解决序列式输入的输入数据，如天气预报的天气特征需要之前多天的数据，而这些数据之间会有一定的依赖关系。\n",
    "\n",
    "**RNN的本质是一个线性层**，\n",
    "\n",
    "![RNN1.png](https://i.loli.net/2021/02/28/OxjRmAIDVSq5g1t.png)\n",
    "其中RNN Cell为各数据共享（一条序列），所以权重数量实际较少，另外，输入数据 $\\mathbf{X_t} \\in \\mathbf{R}^{n \\times d}$，隐藏数据 $\\mathbf{H_t} \\in \\mathbf{R}^{n \\times h}$，其中 n 为数据数量，或者理解为前后有关联的数据个数，而 d 和 h 分别为输入数据的特征维度以及隐藏数据的“层数”。\\begin{equation}\n",
    "\\boldsymbol{H}_{t}=\\phi\\left(\\boldsymbol{X}_{t} \\boldsymbol{W}_{x h}+\\boldsymbol{H}_{t-1} \\boldsymbol{W}_{h h}+\\boldsymbol{b}_{h}\\right)\n",
    "\\tag{a}\\label{eq:1}\n",
    "\\end{equation}\n",
    "式$(a)$即包含了之前的状态变量对当前状态的影响。为了方便计算，我们可以将$\\boldsymbol{X_t}$和$\\boldsymbol{H_{t-1}}$连结之后与$\\boldsymbol{W_{xh}}$和$\\boldsymbol{W_{hh}}$连结之后的矩阵相乘，得到与式 (\\ref{eq:1})相同的结果。\n",
    "\n",
    "换言之，在 RNN 的单元内，有多个权重矩阵，分别管理隐藏层、输入层和输出层，对于文字模型来说，最方便的构造输入向量的方式为独热编码，但是有一些坏处如会占用大量内存。"
   ]
  },
  {
   "cell_type": "code",
   "execution_count": null,
   "metadata": {},
   "outputs": [],
   "source": [
    "import torch\n",
    "\n",
    "#initialize the parameters of dimensions\n",
    "batch_size = 16\n",
    "seq_len = 3\n",
    "input_size = 4\n",
    "hidden_size = 2\n",
    "\n",
    "cell = torch.nn.RNNCell(input_szie=input_size, hidden_size=hidden_size)\n",
    "\n",
    "#(seq_len, batch_size, input_size)\n",
    "dataset = torch.randn(seq_len, batch_size, input_size)\n",
    "hidden = torch.randn(batch_size, input_size)\n",
    "\n",
    "for idx, data in enumerate(dataset):\n",
    "    hidden = cell(input, hidden)"
   ]
  },
  {
   "cell_type": "markdown",
   "metadata": {},
   "source": [
    "此Cell仅实现一个单元计算，要获得各序列的计算结果需要循环调用。"
   ]
  },
  {
   "cell_type": "code",
   "execution_count": null,
   "metadata": {},
   "outputs": [],
   "source": [
    "batch_size = 16\n",
    "seq_len = 3\n",
    "input_size = 4\n",
    "hidden_size = 2\n",
    "num_layers = 1\n",
    "\n",
    "cell = torch.nn.RNN(input_size=input_size, hidden_size=hidden_size, \n",
    "                    num_layers=num_layers)\n",
    "\n",
    "inputs = torch.randn(seq_len, batch_size, input_size)\n",
    "out, hidden = cell(inputs, hidden)"
   ]
  },
  {
   "cell_type": "markdown",
   "metadata": {},
   "source": [
    "RNN则直接完成了循环操作"
   ]
  },
  {
   "cell_type": "code",
   "execution_count": null,
   "metadata": {},
   "outputs": [],
   "source": []
  }
 ],
 "metadata": {
  "kernelspec": {
   "display_name": "Python [conda env:for_torch]",
   "language": "python",
   "name": "conda-env-for_torch-py"
  },
  "language_info": {
   "codemirror_mode": {
    "name": "ipython",
    "version": 3
   },
   "file_extension": ".py",
   "mimetype": "text/x-python",
   "name": "python",
   "nbconvert_exporter": "python",
   "pygments_lexer": "ipython3",
   "version": "3.6.13"
  }
 },
 "nbformat": 4,
 "nbformat_minor": 4
}
